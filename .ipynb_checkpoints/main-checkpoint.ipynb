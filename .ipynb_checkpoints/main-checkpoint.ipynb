{
 "cells": [
  {
   "cell_type": "code",
   "execution_count": 1,
   "metadata": {},
   "outputs": [],
   "source": [
    "import pandas as pd\n",
    "import numpy as np\n",
    "\n",
    "fake_filepath = r\"C:\\Users\\vm658\\Documents\\SVSM\\Research\\Code\\DataSet_Misinfo_FAKE.csv\"\n",
    "true_filepath = r\"C:\\Users\\vm658\\Documents\\SVSM\\Research\\Code\\DataSet_Misinfo_TRUE.csv\""
   ]
  },
  {
   "cell_type": "code",
   "execution_count": 2,
   "metadata": {},
   "outputs": [
    {
     "name": "stdout",
     "output_type": "stream",
     "text": [
      "<class 'pandas.core.frame.DataFrame'>\n",
      "Int64Index: 34078 entries, 0 to 43641\n",
      "Data columns (total 2 columns):\n",
      " #   Column  Non-Null Count  Dtype \n",
      "---  ------  --------------  ----- \n",
      " 0   text    34078 non-null  object\n",
      " 1   label   34078 non-null  int64 \n",
      "dtypes: int64(1), object(1)\n",
      "memory usage: 798.7+ KB\n"
     ]
    }
   ],
   "source": [
    "fake_df = pd.read_csv(fake_filepath)\n",
    "fake_df['label'] = 0\n",
    "#remove first column\n",
    "fake_df = fake_df.drop(fake_df.columns[0], axis=1)\n",
    "#drop empty rows\n",
    "fake_df = fake_df.dropna(how = 'any')\n",
    "fake_df.drop_duplicates(subset = ['text'], inplace=True)\n",
    "fake_df.info()"
   ]
  },
  {
   "cell_type": "code",
   "execution_count": 3,
   "metadata": {},
   "outputs": [
    {
     "name": "stdout",
     "output_type": "stream",
     "text": [
      "<class 'pandas.core.frame.DataFrame'>\n",
      "Int64Index: 34526 entries, 0 to 34974\n",
      "Data columns (total 2 columns):\n",
      " #   Column  Non-Null Count  Dtype \n",
      "---  ------  --------------  ----- \n",
      " 0   text    34526 non-null  object\n",
      " 1   label   34526 non-null  int64 \n",
      "dtypes: int64(1), object(1)\n",
      "memory usage: 809.2+ KB\n"
     ]
    }
   ],
   "source": [
    "true_df = pd.read_csv(true_filepath, encoding = 'latin-1')\n",
    "true_df['label'] = 1\n",
    "#remove first column\n",
    "true_df = true_df.drop(true_df.columns[0], axis=1)\n",
    "#drop empty rows\n",
    "true_df = true_df.dropna(how = 'any')\n",
    "true_df.drop_duplicates(subset = ['text'], inplace=True)\n",
    "true_df.info()"
   ]
  },
  {
   "cell_type": "code",
   "execution_count": 4,
   "metadata": {},
   "outputs": [
    {
     "name": "stdout",
     "output_type": "stream",
     "text": [
      "<class 'pandas.core.frame.DataFrame'>\n",
      "Int64Index: 68604 entries, 0 to 43641\n",
      "Data columns (total 2 columns):\n",
      " #   Column  Non-Null Count  Dtype \n",
      "---  ------  --------------  ----- \n",
      " 0   text    68604 non-null  object\n",
      " 1   label   68604 non-null  int64 \n",
      "dtypes: int64(1), object(1)\n",
      "memory usage: 1.6+ MB\n"
     ]
    },
    {
     "data": {
      "text/html": [
       "<div>\n",
       "<style scoped>\n",
       "    .dataframe tbody tr th:only-of-type {\n",
       "        vertical-align: middle;\n",
       "    }\n",
       "\n",
       "    .dataframe tbody tr th {\n",
       "        vertical-align: top;\n",
       "    }\n",
       "\n",
       "    .dataframe thead th {\n",
       "        text-align: right;\n",
       "    }\n",
       "</style>\n",
       "<table border=\"1\" class=\"dataframe\">\n",
       "  <thead>\n",
       "    <tr style=\"text-align: right;\">\n",
       "      <th></th>\n",
       "      <th>text</th>\n",
       "      <th>label</th>\n",
       "    </tr>\n",
       "  </thead>\n",
       "  <tbody>\n",
       "    <tr>\n",
       "      <th>0</th>\n",
       "      <td>The head of a conservative Republican faction ...</td>\n",
       "      <td>1</td>\n",
       "    </tr>\n",
       "    <tr>\n",
       "      <th>1</th>\n",
       "      <td>Transgender people will be allowed for the fir...</td>\n",
       "      <td>1</td>\n",
       "    </tr>\n",
       "    <tr>\n",
       "      <th>2</th>\n",
       "      <td>The special counsel investigation of links bet...</td>\n",
       "      <td>1</td>\n",
       "    </tr>\n",
       "    <tr>\n",
       "      <th>3</th>\n",
       "      <td>Trump campaign adviser George Papadopoulos tol...</td>\n",
       "      <td>1</td>\n",
       "    </tr>\n",
       "    <tr>\n",
       "      <th>4</th>\n",
       "      <td>President Donald Trump called on the U.S. Post...</td>\n",
       "      <td>1</td>\n",
       "    </tr>\n",
       "    <tr>\n",
       "      <th>5</th>\n",
       "      <td>The White House said on Friday it was set to k...</td>\n",
       "      <td>1</td>\n",
       "    </tr>\n",
       "    <tr>\n",
       "      <th>6</th>\n",
       "      <td>President Donald Trump said on Thursday he bel...</td>\n",
       "      <td>1</td>\n",
       "    </tr>\n",
       "    <tr>\n",
       "      <th>7</th>\n",
       "      <td>While the Fake News loves to talk about my so-...</td>\n",
       "      <td>1</td>\n",
       "    </tr>\n",
       "    <tr>\n",
       "      <th>8</th>\n",
       "      <td>Together, we are MAKING AMERICA GREAT AGAIN! b...</td>\n",
       "      <td>1</td>\n",
       "    </tr>\n",
       "    <tr>\n",
       "      <th>9</th>\n",
       "      <td>Alabama Secretary of State John Merrill said h...</td>\n",
       "      <td>1</td>\n",
       "    </tr>\n",
       "  </tbody>\n",
       "</table>\n",
       "</div>"
      ],
      "text/plain": [
       "                                                text  label\n",
       "0  The head of a conservative Republican faction ...      1\n",
       "1  Transgender people will be allowed for the fir...      1\n",
       "2  The special counsel investigation of links bet...      1\n",
       "3  Trump campaign adviser George Papadopoulos tol...      1\n",
       "4  President Donald Trump called on the U.S. Post...      1\n",
       "5  The White House said on Friday it was set to k...      1\n",
       "6  President Donald Trump said on Thursday he bel...      1\n",
       "7  While the Fake News loves to talk about my so-...      1\n",
       "8  Together, we are MAKING AMERICA GREAT AGAIN! b...      1\n",
       "9  Alabama Secretary of State John Merrill said h...      1"
      ]
     },
     "execution_count": 4,
     "metadata": {},
     "output_type": "execute_result"
    }
   ],
   "source": [
    "df=pd.concat([true_df,fake_df])\n",
    "df.info()\n",
    "df.head(10)"
   ]
  },
  {
   "cell_type": "code",
   "execution_count": 5,
   "metadata": {},
   "outputs": [
    {
     "name": "stderr",
     "output_type": "stream",
     "text": [
      "[nltk_data] Downloading package punkt to\n",
      "[nltk_data]     C:\\Users\\vm658\\AppData\\Roaming\\nltk_data...\n",
      "[nltk_data]   Package punkt is already up-to-date!\n",
      "[nltk_data] Downloading package stopwords to\n",
      "[nltk_data]     C:\\Users\\vm658\\AppData\\Roaming\\nltk_data...\n",
      "[nltk_data]   Package stopwords is already up-to-date!\n"
     ]
    }
   ],
   "source": [
    "import string\n",
    "import nltk\n",
    "from nltk.corpus import stopwords\n",
    "nltk.download('punkt')\n",
    "nltk.download('stopwords')\n",
    "#add more punctuation\n",
    "punctuations = string.punctuation + \"’‘“”\""
   ]
  },
  {
   "cell_type": "code",
   "execution_count": 6,
   "metadata": {},
   "outputs": [],
   "source": [
    "#remove punctuation\n",
    "def remove_punctuation(text):\n",
    "    no_punct = \"\".join([c for c in text if c not in punctuations])\n",
    "    return no_punct"
   ]
  },
  {
   "cell_type": "code",
   "execution_count": 7,
   "metadata": {},
   "outputs": [
    {
     "data": {
      "text/plain": [
       "0    [the, head, of, a, conservative, republican, f...\n",
       "1    [transgender, people, will, be, allowed, for, ...\n",
       "2    [the, special, counsel, investigation, of, lin...\n",
       "3    [trump, campaign, adviser, george, papadopoulo...\n",
       "4    [president, donald, trump, called, on, the, us...\n",
       "Name: text_token, dtype: object"
      ]
     },
     "execution_count": 7,
     "metadata": {},
     "output_type": "execute_result"
    }
   ],
   "source": [
    "#remove punctuation\n",
    "df['text'] = df['text'].apply(lambda x: remove_punctuation(x))\n",
    "#make all text lowercase\n",
    "df['text'] = df['text'].apply(lambda x: x.lower())\n",
    "#tokenize \n",
    "df['text_token'] = df['text'].apply(nltk.word_tokenize)\n",
    "df['text_token'].head()\n"
   ]
  },
  {
   "cell_type": "code",
   "execution_count": 8,
   "metadata": {},
   "outputs": [
    {
     "data": {
      "text/plain": [
       "0    [head, conservative, republican, faction, us, ...\n",
       "1    [transgender, people, allowed, first, time, en...\n",
       "2    [special, counsel, investigation, links, russi...\n",
       "3    [trump, campaign, adviser, george, papadopoulo...\n",
       "4    [president, donald, trump, called, us, postal,...\n",
       "Name: text_token, dtype: object"
      ]
     },
     "execution_count": 8,
     "metadata": {},
     "output_type": "execute_result"
    }
   ],
   "source": [
    "#remove stopwords\n",
    "stop_words = stopwords.words('english')\n",
    "for sentence in df['text_token']:\n",
    "    for word in sentence:\n",
    "        if word in stop_words:\n",
    "            sentence.remove(word)\n",
    "df['text_token'].head()"
   ]
  },
  {
   "cell_type": "code",
   "execution_count": 9,
   "metadata": {},
   "outputs": [
    {
     "name": "stderr",
     "output_type": "stream",
     "text": [
      "[nltk_data] Downloading package wordnet to\n",
      "[nltk_data]     C:\\Users\\vm658\\AppData\\Roaming\\nltk_data...\n",
      "[nltk_data]   Package wordnet is already up-to-date!\n",
      "[nltk_data] Downloading package omw-1.4 to\n",
      "[nltk_data]     C:\\Users\\vm658\\AppData\\Roaming\\nltk_data...\n",
      "[nltk_data]   Package omw-1.4 is already up-to-date!\n"
     ]
    }
   ],
   "source": [
    "#lemmatizing\n",
    "#stemming\n",
    "from nltk.stem import PorterStemmer\n",
    "from nltk.stem import WordNetLemmatizer\n",
    "nltk.download('wordnet')\n",
    "nltk.download('omw-1.4')\n",
    "stemmer = PorterStemmer()\n",
    "lemmatizer = WordNetLemmatizer()"
   ]
  },
  {
   "cell_type": "code",
   "execution_count": 17,
   "metadata": {},
   "outputs": [
    {
     "data": {
      "text/html": [
       "<div>\n",
       "<style scoped>\n",
       "    .dataframe tbody tr th:only-of-type {\n",
       "        vertical-align: middle;\n",
       "    }\n",
       "\n",
       "    .dataframe tbody tr th {\n",
       "        vertical-align: top;\n",
       "    }\n",
       "\n",
       "    .dataframe thead th {\n",
       "        text-align: right;\n",
       "    }\n",
       "</style>\n",
       "<table border=\"1\" class=\"dataframe\">\n",
       "  <thead>\n",
       "    <tr style=\"text-align: right;\">\n",
       "      <th></th>\n",
       "      <th>text</th>\n",
       "      <th>label</th>\n",
       "      <th>text_token</th>\n",
       "      <th>text_lem</th>\n",
       "      <th>text_stem</th>\n",
       "    </tr>\n",
       "  </thead>\n",
       "  <tbody>\n",
       "    <tr>\n",
       "      <th>0</th>\n",
       "      <td>the head of a conservative republican faction ...</td>\n",
       "      <td>1</td>\n",
       "      <td>[head, conservative, republican, faction, us, ...</td>\n",
       "      <td>[head, conservative, republican, faction, u, c...</td>\n",
       "      <td>[head, conserv, republican, faction, us, congr...</td>\n",
       "    </tr>\n",
       "    <tr>\n",
       "      <th>1</th>\n",
       "      <td>transgender people will be allowed for the fir...</td>\n",
       "      <td>1</td>\n",
       "      <td>[transgender, people, allowed, first, time, en...</td>\n",
       "      <td>[transgender, people, allowed, first, time, en...</td>\n",
       "      <td>[transgend, peopl, allow, first, time, enlist,...</td>\n",
       "    </tr>\n",
       "    <tr>\n",
       "      <th>2</th>\n",
       "      <td>the special counsel investigation of links bet...</td>\n",
       "      <td>1</td>\n",
       "      <td>[special, counsel, investigation, links, russi...</td>\n",
       "      <td>[special, counsel, investigation, link, russia...</td>\n",
       "      <td>[special, counsel, investig, link, russia, pre...</td>\n",
       "    </tr>\n",
       "    <tr>\n",
       "      <th>3</th>\n",
       "      <td>trump campaign adviser george papadopoulos tol...</td>\n",
       "      <td>1</td>\n",
       "      <td>[trump, campaign, adviser, george, papadopoulo...</td>\n",
       "      <td>[trump, campaign, adviser, george, papadopoulo...</td>\n",
       "      <td>[trump, campaign, advis, georg, papadopoulo, t...</td>\n",
       "    </tr>\n",
       "    <tr>\n",
       "      <th>4</th>\n",
       "      <td>president donald trump called on the us postal...</td>\n",
       "      <td>1</td>\n",
       "      <td>[president, donald, trump, called, us, postal,...</td>\n",
       "      <td>[president, donald, trump, called, u, postal, ...</td>\n",
       "      <td>[presid, donald, trump, call, us, postal, serv...</td>\n",
       "    </tr>\n",
       "  </tbody>\n",
       "</table>\n",
       "</div>"
      ],
      "text/plain": [
       "                                                text  label  \\\n",
       "0  the head of a conservative republican faction ...      1   \n",
       "1  transgender people will be allowed for the fir...      1   \n",
       "2  the special counsel investigation of links bet...      1   \n",
       "3  trump campaign adviser george papadopoulos tol...      1   \n",
       "4  president donald trump called on the us postal...      1   \n",
       "\n",
       "                                          text_token  \\\n",
       "0  [head, conservative, republican, faction, us, ...   \n",
       "1  [transgender, people, allowed, first, time, en...   \n",
       "2  [special, counsel, investigation, links, russi...   \n",
       "3  [trump, campaign, adviser, george, papadopoulo...   \n",
       "4  [president, donald, trump, called, us, postal,...   \n",
       "\n",
       "                                            text_lem  \\\n",
       "0  [head, conservative, republican, faction, u, c...   \n",
       "1  [transgender, people, allowed, first, time, en...   \n",
       "2  [special, counsel, investigation, link, russia...   \n",
       "3  [trump, campaign, adviser, george, papadopoulo...   \n",
       "4  [president, donald, trump, called, u, postal, ...   \n",
       "\n",
       "                                           text_stem  \n",
       "0  [head, conserv, republican, faction, us, congr...  \n",
       "1  [transgend, peopl, allow, first, time, enlist,...  \n",
       "2  [special, counsel, investig, link, russia, pre...  \n",
       "3  [trump, campaign, advis, georg, papadopoulo, t...  \n",
       "4  [presid, donald, trump, call, us, postal, serv...  "
      ]
     },
     "execution_count": 17,
     "metadata": {},
     "output_type": "execute_result"
    }
   ],
   "source": [
    "#stem text\n",
    "df['text_stem'] = df['text_token'].apply(lambda x: [stemmer.stem(y) for y in x])\n",
    "df.head()"
   ]
  },
  {
   "cell_type": "code",
   "execution_count": 11,
   "metadata": {},
   "outputs": [
    {
     "data": {
      "text/plain": [
       "0    [head, conservative, republican, faction, u, c...\n",
       "1    [transgender, people, allowed, first, time, en...\n",
       "2    [special, counsel, investigation, link, russia...\n",
       "3    [trump, campaign, adviser, george, papadopoulo...\n",
       "4    [president, donald, trump, called, u, postal, ...\n",
       "Name: text_lem, dtype: object"
      ]
     },
     "execution_count": 11,
     "metadata": {},
     "output_type": "execute_result"
    }
   ],
   "source": [
    "#lemmatize text\n",
    "df['text_lem'] = df['text_token'].apply(lambda x: [lemmatizer.lemmatize(word) for word in x])\n",
    "df['text_lem'].head()"
   ]
  },
  {
   "cell_type": "code",
   "execution_count": 12,
   "metadata": {},
   "outputs": [],
   "source": [
    "#counts words\n",
    "from collections import Counter\n",
    "import matplotlib.pyplot as plt\n",
    "import seaborn as sns\n",
    "%matplotlib inline"
   ]
  },
  {
   "cell_type": "code",
   "execution_count": 13,
   "metadata": {},
   "outputs": [],
   "source": [
    "#combine all the lemmatized lists into one list\n",
    "counts = Counter()\n",
    "text_lem = df['text_lem']\n",
    "text_lem.apply(lambda x: counts.update(x)) # counts.update(x) adds the words in x to the counter\n",
    "counts.most_common(20) # shows the 20 most common words\n",
    "\n",
    "\n",
    "#counts words and shows a barh graph of the top 20 words\n",
    "#counted = Counter(text)\n",
    "word_freq = pd.DataFrame(counts.items(),columns=['word','frequency']).sort_values(by='frequency',ascending=False)"
   ]
  },
  {
   "cell_type": "code",
   "execution_count": 23,
   "metadata": {},
   "outputs": [
    {
     "data": {
      "image/png": "[encoded data removed]",
      "text/plain": [
       "<Figure size 1000x500 with 1 Axes>"
      ]
     },
     "metadata": {},
     "output_type": "display_data"
    },
    {
     "name": "stdout",
     "output_type": "stream",
     "text": [
      "185    the\n",
      "113      a\n",
      "Name: word, dtype: object\n"
     ]
    }
   ],
   "source": [
    "plt.figure(figsize = (10, 5))\n",
    "sns.barplot(x = 'frequency', y = 'word', data = word_freq[2:30])\n",
    "plt.xticks(rotation = 90)\n",
    "plt.show()"
   ]
  }
 ],
 "metadata": {
  "kernelspec": {
   "display_name": "Python 3 (ipykernel)",
   "language": "python",
   "name": "python3"
  },
  "language_info": {
   "codemirror_mode": {
    "name": "ipython",
    "version": 3
   },
   "file_extension": ".py",
   "mimetype": "text/x-python",
   "name": "python",
   "nbconvert_exporter": "python",
   "pygments_lexer": "ipython3",
   "version": "3.10.9"
  }
 },
 "nbformat": 4,
 "nbformat_minor": 2
}
